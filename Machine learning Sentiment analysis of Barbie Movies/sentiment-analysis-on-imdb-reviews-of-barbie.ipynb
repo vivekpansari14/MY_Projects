{
 "cells": [
  {
   "cell_type": "markdown",
   "id": "a1622901",
   "metadata": {
    "_cell_guid": "b1076dfc-b9ad-4769-8c92-a6c4dae69d19",
    "_uuid": "8f2839f25d086af736a60e9eeb907d3b93b6e0e5",
    "execution": {
     "iopub.execute_input": "2023-08-06T05:37:54.585625Z",
     "iopub.status.busy": "2023-08-06T05:37:54.585279Z",
     "iopub.status.idle": "2023-08-06T05:37:54.637201Z",
     "shell.execute_reply": "2023-08-06T05:37:54.635364Z",
     "shell.execute_reply.started": "2023-08-06T05:37:54.585595Z"
    },
    "papermill": {
     "duration": 0.014941,
     "end_time": "2023-08-16T23:06:05.740757",
     "exception": false,
     "start_time": "2023-08-16T23:06:05.725816",
     "status": "completed"
    },
    "tags": []
   },
   "source": [
    "# Sentiment Analysis on IMDB reviews of Barbie"
   ]
  },
  {
   "cell_type": "markdown",
   "id": "4d514845",
   "metadata": {
    "papermill": {
     "duration": 0.013708,
     "end_time": "2023-08-16T23:06:05.768969",
     "exception": false,
     "start_time": "2023-08-16T23:06:05.755261",
     "status": "completed"
    },
    "tags": []
   },
   "source": [
    "**Importing libraries**"
   ]
  },
  {
   "cell_type": "code",
   "execution_count": 1,
   "id": "7161bb21",
   "metadata": {
    "execution": {
     "iopub.execute_input": "2023-08-16T23:06:05.801568Z",
     "iopub.status.busy": "2023-08-16T23:06:05.800613Z",
     "iopub.status.idle": "2023-08-16T23:06:08.335802Z",
     "shell.execute_reply": "2023-08-16T23:06:08.334845Z"
    },
    "papermill": {
     "duration": 2.554057,
     "end_time": "2023-08-16T23:06:08.338629",
     "exception": false,
     "start_time": "2023-08-16T23:06:05.784572",
     "status": "completed"
    },
    "tags": []
   },
   "outputs": [
    {
     "name": "stderr",
     "output_type": "stream",
     "text": [
      "/opt/conda/lib/python3.10/site-packages/scipy/__init__.py:146: UserWarning: A NumPy version >=1.16.5 and <1.23.0 is required for this version of SciPy (detected version 1.23.5\n",
      "  warnings.warn(f\"A NumPy version >={np_minversion} and <{np_maxversion}\"\n"
     ]
    }
   ],
   "source": [
    "import numpy as np\n",
    "import pandas as pd \n",
    "from textblob import TextBlob\n",
    "import re\n",
    "import matplotlib.pyplot as plt\n",
    "import seaborn as sns\n",
    "import warnings\n",
    "warnings.filterwarnings('ignore')\n",
    "from nltk.sentiment.vader import SentimentIntensityAnalyzer"
   ]
  },
  {
   "cell_type": "markdown",
   "id": "ec649086",
   "metadata": {
    "papermill": {
     "duration": 0.014048,
     "end_time": "2023-08-16T23:06:08.367160",
     "exception": false,
     "start_time": "2023-08-16T23:06:08.353112",
     "status": "completed"
    },
    "tags": []
   },
   "source": [
    "# Importing dataset"
   ]
  },
  {
   "cell_type": "code",
   "execution_count": 2,
   "id": "b8860153",
   "metadata": {
    "execution": {
     "iopub.execute_input": "2023-08-16T23:06:08.398394Z",
     "iopub.status.busy": "2023-08-16T23:06:08.397490Z",
     "iopub.status.idle": "2023-08-16T23:06:08.473565Z",
     "shell.execute_reply": "2023-08-16T23:06:08.472347Z"
    },
    "papermill": {
     "duration": 0.094757,
     "end_time": "2023-08-16T23:06:08.476384",
     "exception": false,
     "start_time": "2023-08-16T23:06:08.381627",
     "status": "completed"
    },
    "tags": []
   },
   "outputs": [
    {
     "data": {
      "text/html": [
       "<div>\n",
       "<style scoped>\n",
       "    .dataframe tbody tr th:only-of-type {\n",
       "        vertical-align: middle;\n",
       "    }\n",
       "\n",
       "    .dataframe tbody tr th {\n",
       "        vertical-align: top;\n",
       "    }\n",
       "\n",
       "    .dataframe thead th {\n",
       "        text-align: right;\n",
       "    }\n",
       "</style>\n",
       "<table border=\"1\" class=\"dataframe\">\n",
       "  <thead>\n",
       "    <tr style=\"text-align: right;\">\n",
       "      <th></th>\n",
       "      <th>text</th>\n",
       "      <th>rating</th>\n",
       "    </tr>\n",
       "  </thead>\n",
       "  <tbody>\n",
       "    <tr>\n",
       "      <th>0</th>\n",
       "      <td>Beautiful film, but so preachyLoveofLegacy21 J...</td>\n",
       "      <td>6</td>\n",
       "    </tr>\n",
       "    <tr>\n",
       "      <th>1</th>\n",
       "      <td>Clever and fun beginning turns into another le...</td>\n",
       "      <td>6</td>\n",
       "    </tr>\n",
       "    <tr>\n",
       "      <th>2</th>\n",
       "      <td>It was depressingcoxaneesa24 July 2023Warning:...</td>\n",
       "      <td>8</td>\n",
       "    </tr>\n",
       "    <tr>\n",
       "      <th>3</th>\n",
       "      <td>A Technicolor Dreamheatherhilgers24 July 2023W...</td>\n",
       "      <td>9</td>\n",
       "    </tr>\n",
       "    <tr>\n",
       "      <th>4</th>\n",
       "      <td>reasons FOR seeing it and 1 reason AGAINST.im...</td>\n",
       "      <td>7</td>\n",
       "    </tr>\n",
       "    <tr>\n",
       "      <th>...</th>\n",
       "      <td>...</td>\n",
       "      <td>...</td>\n",
       "    </tr>\n",
       "    <tr>\n",
       "      <th>792</th>\n",
       "      <td>Barbie-not goodthongman22 July 2023The only re...</td>\n",
       "      <td>2</td>\n",
       "    </tr>\n",
       "    <tr>\n",
       "      <th>793</th>\n",
       "      <td>Feminism but the rest?iyaseminkose23 July 2023...</td>\n",
       "      <td>5</td>\n",
       "    </tr>\n",
       "    <tr>\n",
       "      <th>794</th>\n",
       "      <td>Great sets, great execution but horrible story...</td>\n",
       "      <td>3</td>\n",
       "    </tr>\n",
       "    <tr>\n",
       "      <th>795</th>\n",
       "      <td>Just meh.apriljosey-2903427 July 2023Warning: ...</td>\n",
       "      <td>2</td>\n",
       "    </tr>\n",
       "    <tr>\n",
       "      <th>796</th>\n",
       "      <td>Not for little kids and wastes your time.ben-3...</td>\n",
       "      <td>1</td>\n",
       "    </tr>\n",
       "  </tbody>\n",
       "</table>\n",
       "<p>797 rows × 2 columns</p>\n",
       "</div>"
      ],
      "text/plain": [
       "                                                  text rating\n",
       "0    Beautiful film, but so preachyLoveofLegacy21 J...      6\n",
       "1    Clever and fun beginning turns into another le...      6\n",
       "2    It was depressingcoxaneesa24 July 2023Warning:...      8\n",
       "3    A Technicolor Dreamheatherhilgers24 July 2023W...      9\n",
       "4     reasons FOR seeing it and 1 reason AGAINST.im...      7\n",
       "..                                                 ...    ...\n",
       "792  Barbie-not goodthongman22 July 2023The only re...      2\n",
       "793  Feminism but the rest?iyaseminkose23 July 2023...      5\n",
       "794  Great sets, great execution but horrible story...      3\n",
       "795  Just meh.apriljosey-2903427 July 2023Warning: ...      2\n",
       "796  Not for little kids and wastes your time.ben-3...      1\n",
       "\n",
       "[797 rows x 2 columns]"
      ]
     },
     "execution_count": 2,
     "metadata": {},
     "output_type": "execute_result"
    }
   ],
   "source": [
    "Barbie_df = pd.read_csv('/kaggle/input/imdb-reviews-on-barbie/barbie_Cleaned.csv')\n",
    "Barbie_df"
   ]
  },
  {
   "cell_type": "markdown",
   "id": "bab13181",
   "metadata": {
    "papermill": {
     "duration": 0.014485,
     "end_time": "2023-08-16T23:06:08.505856",
     "exception": false,
     "start_time": "2023-08-16T23:06:08.491371",
     "status": "completed"
    },
    "tags": []
   },
   "source": [
    "# Shape of Dataset"
   ]
  },
  {
   "cell_type": "code",
   "execution_count": 3,
   "id": "44bb41a6",
   "metadata": {
    "execution": {
     "iopub.execute_input": "2023-08-16T23:06:08.537994Z",
     "iopub.status.busy": "2023-08-16T23:06:08.537244Z",
     "iopub.status.idle": "2023-08-16T23:06:08.543701Z",
     "shell.execute_reply": "2023-08-16T23:06:08.542597Z"
    },
    "papermill": {
     "duration": 0.025435,
     "end_time": "2023-08-16T23:06:08.545977",
     "exception": false,
     "start_time": "2023-08-16T23:06:08.520542",
     "status": "completed"
    },
    "tags": []
   },
   "outputs": [
    {
     "name": "stdout",
     "output_type": "stream",
     "text": [
      "There are 797 and 2 columns in dataset\n"
     ]
    }
   ],
   "source": [
    "rows, cols = Barbie_df.shape\n",
    "print(f\"There are {rows} and {cols} columns in dataset\")"
   ]
  },
  {
   "cell_type": "markdown",
   "id": "1f856e8c",
   "metadata": {
    "papermill": {
     "duration": 0.014629,
     "end_time": "2023-08-16T23:06:08.575647",
     "exception": false,
     "start_time": "2023-08-16T23:06:08.561018",
     "status": "completed"
    },
    "tags": []
   },
   "source": [
    "# Cleaning the Text"
   ]
  },
  {
   "cell_type": "code",
   "execution_count": 4,
   "id": "87f1ea57",
   "metadata": {
    "execution": {
     "iopub.execute_input": "2023-08-16T23:06:08.609289Z",
     "iopub.status.busy": "2023-08-16T23:06:08.608626Z",
     "iopub.status.idle": "2023-08-16T23:06:09.208373Z",
     "shell.execute_reply": "2023-08-16T23:06:09.207472Z"
    },
    "papermill": {
     "duration": 0.619865,
     "end_time": "2023-08-16T23:06:09.210984",
     "exception": false,
     "start_time": "2023-08-16T23:06:08.591119",
     "status": "completed"
    },
    "tags": []
   },
   "outputs": [],
   "source": [
    "# Iterate through each row in the 'text' column of Barbie_df\n",
    "for i in range(len(Barbie_df['text'])):\n",
    "    # Step 1: Remove mentions (e.g., @username)\n",
    "    Barbie_df['text'][i] = re.sub(r\"(@[A-Za-z0-9]+)\", \"\", Barbie_df['text'][i])\n",
    "\n",
    "    # Step 2: Remove special characters (excluding alphanumeric and spaces)\n",
    "    Barbie_df['text'][i] = re.sub(r\"[^0-9A-Za-z \\t]\", \"\", Barbie_df['text'][i])\n",
    "\n",
    "    # Step 3: Remove URLs\n",
    "    Barbie_df['text'][i] = re.sub(r\"\\w+:\\/\\/\\S+\", \"\", Barbie_df['text'][i])\n",
    "\n",
    "    # Step 4: Remove 'rt' at the beginning of the text\n",
    "    Barbie_df['text'][i] = re.sub(r\"^rt\", \"\", Barbie_df['text'][i], flags=re.IGNORECASE)\n",
    "\n",
    "    # Step 5: Remove any remaining 'http...' text\n",
    "    Barbie_df['text'][i] = re.sub(r\"http.+\", \"\", Barbie_df['text'][i], flags=re.IGNORECASE)\n",
    "\n",
    "# The cleaned 'text' column is now stored back in the Barbie_df DataFrame\n"
   ]
  },
  {
   "cell_type": "code",
   "execution_count": 5,
   "id": "ee9b8c7d",
   "metadata": {
    "execution": {
     "iopub.execute_input": "2023-08-16T23:06:09.242228Z",
     "iopub.status.busy": "2023-08-16T23:06:09.241812Z",
     "iopub.status.idle": "2023-08-16T23:06:09.248874Z",
     "shell.execute_reply": "2023-08-16T23:06:09.247785Z"
    },
    "papermill": {
     "duration": 0.025321,
     "end_time": "2023-08-16T23:06:09.251269",
     "exception": false,
     "start_time": "2023-08-16T23:06:09.225948",
     "status": "completed"
    },
    "tags": []
   },
   "outputs": [
    {
     "data": {
      "text/plain": [
       "'Beautiful film but so preachyLoveofLegacy21 July 2023Margot does the best with what shes given but this film was very disappointing to me It was marketed as a fun quirky satire with homages to other movies It started that way but ended with overdramatized speeches and an ending that clearly tried to make the audience feel something but left everyone just feeling confused And before you say Im a crotchety old man Im a woman in my 20s so Im pretty sure Im this movies target audience The saddest part is there were parents with their kids in the theater that were victims of the poor marketing because this is not a kids movie Overall the humor was fun on occasion and the film is beautiful to look at but the whole concept falls apart in the second half of the film and becomes a pity party for the strong woman1190 out of 1646 found this helpful Was this review helpful Sign in to votePermalink'"
      ]
     },
     "execution_count": 5,
     "metadata": {},
     "output_type": "execute_result"
    }
   ],
   "source": [
    "Barbie_df['text'][0]"
   ]
  },
  {
   "cell_type": "markdown",
   "id": "8b860141",
   "metadata": {
    "papermill": {
     "duration": 0.014852,
     "end_time": "2023-08-16T23:06:09.281195",
     "exception": false,
     "start_time": "2023-08-16T23:06:09.266343",
     "status": "completed"
    },
    "tags": []
   },
   "source": [
    "# Removing duplicate values"
   ]
  },
  {
   "cell_type": "code",
   "execution_count": 6,
   "id": "125517c4",
   "metadata": {
    "execution": {
     "iopub.execute_input": "2023-08-16T23:06:09.312478Z",
     "iopub.status.busy": "2023-08-16T23:06:09.312066Z",
     "iopub.status.idle": "2023-08-16T23:06:09.331592Z",
     "shell.execute_reply": "2023-08-16T23:06:09.330108Z"
    },
    "papermill": {
     "duration": 0.038127,
     "end_time": "2023-08-16T23:06:09.334129",
     "exception": false,
     "start_time": "2023-08-16T23:06:09.296002",
     "status": "completed"
    },
    "tags": []
   },
   "outputs": [
    {
     "name": "stdout",
     "output_type": "stream",
     "text": [
      "There are 0 duplicate values\n"
     ]
    }
   ],
   "source": [
    "print(f\"There are {Barbie_df.duplicated().sum()} duplicate values\")\n",
    "Barbie_df = Barbie_df.drop_duplicates()"
   ]
  },
  {
   "cell_type": "code",
   "execution_count": 7,
   "id": "69577776",
   "metadata": {
    "execution": {
     "iopub.execute_input": "2023-08-16T23:06:09.366023Z",
     "iopub.status.busy": "2023-08-16T23:06:09.365356Z",
     "iopub.status.idle": "2023-08-16T23:06:09.374611Z",
     "shell.execute_reply": "2023-08-16T23:06:09.373143Z"
    },
    "papermill": {
     "duration": 0.027796,
     "end_time": "2023-08-16T23:06:09.376967",
     "exception": false,
     "start_time": "2023-08-16T23:06:09.349171",
     "status": "completed"
    },
    "tags": []
   },
   "outputs": [
    {
     "name": "stdout",
     "output_type": "stream",
     "text": [
      "There are 0 duplicate values\n"
     ]
    }
   ],
   "source": [
    "print(f\"There are {Barbie_df.duplicated().sum()} duplicate values\")"
   ]
  },
  {
   "cell_type": "code",
   "execution_count": 8,
   "id": "de704af7",
   "metadata": {
    "execution": {
     "iopub.execute_input": "2023-08-16T23:06:09.409997Z",
     "iopub.status.busy": "2023-08-16T23:06:09.409296Z",
     "iopub.status.idle": "2023-08-16T23:06:09.431339Z",
     "shell.execute_reply": "2023-08-16T23:06:09.430207Z"
    },
    "papermill": {
     "duration": 0.04119,
     "end_time": "2023-08-16T23:06:09.433933",
     "exception": false,
     "start_time": "2023-08-16T23:06:09.392743",
     "status": "completed"
    },
    "tags": []
   },
   "outputs": [
    {
     "data": {
      "text/html": [
       "<div>\n",
       "<style scoped>\n",
       "    .dataframe tbody tr th:only-of-type {\n",
       "        vertical-align: middle;\n",
       "    }\n",
       "\n",
       "    .dataframe tbody tr th {\n",
       "        vertical-align: top;\n",
       "    }\n",
       "\n",
       "    .dataframe thead th {\n",
       "        text-align: right;\n",
       "    }\n",
       "</style>\n",
       "<table border=\"1\" class=\"dataframe\">\n",
       "  <thead>\n",
       "    <tr style=\"text-align: right;\">\n",
       "      <th></th>\n",
       "      <th>text</th>\n",
       "      <th>rating</th>\n",
       "    </tr>\n",
       "  </thead>\n",
       "  <tbody>\n",
       "    <tr>\n",
       "      <th>count</th>\n",
       "      <td>797</td>\n",
       "      <td>797</td>\n",
       "    </tr>\n",
       "    <tr>\n",
       "      <th>unique</th>\n",
       "      <td>797</td>\n",
       "      <td>16</td>\n",
       "    </tr>\n",
       "    <tr>\n",
       "      <th>top</th>\n",
       "      <td>Beautiful film but so preachyLoveofLegacy21 Ju...</td>\n",
       "      <td>1</td>\n",
       "    </tr>\n",
       "    <tr>\n",
       "      <th>freq</th>\n",
       "      <td>1</td>\n",
       "      <td>264</td>\n",
       "    </tr>\n",
       "  </tbody>\n",
       "</table>\n",
       "</div>"
      ],
      "text/plain": [
       "                                                     text rating\n",
       "count                                                 797    797\n",
       "unique                                                797     16\n",
       "top     Beautiful film but so preachyLoveofLegacy21 Ju...      1\n",
       "freq                                                    1    264"
      ]
     },
     "execution_count": 8,
     "metadata": {},
     "output_type": "execute_result"
    }
   ],
   "source": [
    "Barbie_df.describe()"
   ]
  },
  {
   "cell_type": "code",
   "execution_count": 9,
   "id": "71f23899",
   "metadata": {
    "execution": {
     "iopub.execute_input": "2023-08-16T23:06:09.468306Z",
     "iopub.status.busy": "2023-08-16T23:06:09.467178Z",
     "iopub.status.idle": "2023-08-16T23:06:09.483639Z",
     "shell.execute_reply": "2023-08-16T23:06:09.482347Z"
    },
    "papermill": {
     "duration": 0.036084,
     "end_time": "2023-08-16T23:06:09.486139",
     "exception": false,
     "start_time": "2023-08-16T23:06:09.450055",
     "status": "completed"
    },
    "tags": []
   },
   "outputs": [
    {
     "name": "stdout",
     "output_type": "stream",
     "text": [
      "<class 'pandas.core.frame.DataFrame'>\n",
      "Int64Index: 797 entries, 0 to 796\n",
      "Data columns (total 2 columns):\n",
      " #   Column  Non-Null Count  Dtype \n",
      "---  ------  --------------  ----- \n",
      " 0   text    797 non-null    object\n",
      " 1   rating  797 non-null    object\n",
      "dtypes: object(2)\n",
      "memory usage: 18.7+ KB\n"
     ]
    }
   ],
   "source": [
    "Barbie_df.info()"
   ]
  },
  {
   "cell_type": "markdown",
   "id": "a15faadc",
   "metadata": {
    "papermill": {
     "duration": 0.015208,
     "end_time": "2023-08-16T23:06:09.517433",
     "exception": false,
     "start_time": "2023-08-16T23:06:09.502225",
     "status": "completed"
    },
    "tags": []
   },
   "source": [
    "# Check Null values"
   ]
  },
  {
   "cell_type": "code",
   "execution_count": 10,
   "id": "36e3e10c",
   "metadata": {
    "execution": {
     "iopub.execute_input": "2023-08-16T23:06:09.551372Z",
     "iopub.status.busy": "2023-08-16T23:06:09.550566Z",
     "iopub.status.idle": "2023-08-16T23:06:09.560139Z",
     "shell.execute_reply": "2023-08-16T23:06:09.559036Z"
    },
    "papermill": {
     "duration": 0.029105,
     "end_time": "2023-08-16T23:06:09.562306",
     "exception": false,
     "start_time": "2023-08-16T23:06:09.533201",
     "status": "completed"
    },
    "tags": []
   },
   "outputs": [
    {
     "data": {
      "text/plain": [
       "text      0\n",
       "rating    0\n",
       "dtype: int64"
      ]
     },
     "execution_count": 10,
     "metadata": {},
     "output_type": "execute_result"
    }
   ],
   "source": [
    "Barbie_df.isna().sum()"
   ]
  },
  {
   "cell_type": "markdown",
   "id": "d64aa719",
   "metadata": {
    "papermill": {
     "duration": 0.015391,
     "end_time": "2023-08-16T23:06:09.593416",
     "exception": false,
     "start_time": "2023-08-16T23:06:09.578025",
     "status": "completed"
    },
    "tags": []
   },
   "source": [
    "# Analyzing the sentiments "
   ]
  },
  {
   "cell_type": "code",
   "execution_count": 11,
   "id": "4f12f39d",
   "metadata": {
    "execution": {
     "iopub.execute_input": "2023-08-16T23:06:09.626698Z",
     "iopub.status.busy": "2023-08-16T23:06:09.626285Z",
     "iopub.status.idle": "2023-08-16T23:06:19.906912Z",
     "shell.execute_reply": "2023-08-16T23:06:19.905730Z"
    },
    "papermill": {
     "duration": 10.300262,
     "end_time": "2023-08-16T23:06:19.909420",
     "exception": false,
     "start_time": "2023-08-16T23:06:09.609158",
     "status": "completed"
    },
    "tags": []
   },
   "outputs": [
    {
     "data": {
      "text/html": [
       "<div>\n",
       "<style scoped>\n",
       "    .dataframe tbody tr th:only-of-type {\n",
       "        vertical-align: middle;\n",
       "    }\n",
       "\n",
       "    .dataframe tbody tr th {\n",
       "        vertical-align: top;\n",
       "    }\n",
       "\n",
       "    .dataframe thead th {\n",
       "        text-align: right;\n",
       "    }\n",
       "</style>\n",
       "<table border=\"1\" class=\"dataframe\">\n",
       "  <thead>\n",
       "    <tr style=\"text-align: right;\">\n",
       "      <th></th>\n",
       "      <th>text</th>\n",
       "      <th>rating</th>\n",
       "      <th>score</th>\n",
       "      <th>analysis</th>\n",
       "    </tr>\n",
       "  </thead>\n",
       "  <tbody>\n",
       "    <tr>\n",
       "      <th>0</th>\n",
       "      <td>Beautiful film but so preachyLoveofLegacy21 Ju...</td>\n",
       "      <td>6</td>\n",
       "      <td>0.9874</td>\n",
       "      <td>Positive</td>\n",
       "    </tr>\n",
       "    <tr>\n",
       "      <th>1</th>\n",
       "      <td>Clever and fun beginning turns into another le...</td>\n",
       "      <td>6</td>\n",
       "      <td>0.9524</td>\n",
       "      <td>Positive</td>\n",
       "    </tr>\n",
       "    <tr>\n",
       "      <th>2</th>\n",
       "      <td>It was depressingcoxaneesa24 July 2023Warning ...</td>\n",
       "      <td>8</td>\n",
       "      <td>0.7579</td>\n",
       "      <td>Positive</td>\n",
       "    </tr>\n",
       "    <tr>\n",
       "      <th>3</th>\n",
       "      <td>A Technicolor Dreamheatherhilgers24 July 2023W...</td>\n",
       "      <td>9</td>\n",
       "      <td>0.9733</td>\n",
       "      <td>Positive</td>\n",
       "    </tr>\n",
       "    <tr>\n",
       "      <th>4</th>\n",
       "      <td>reasons FOR seeing it and 1 reason AGAINSTims...</td>\n",
       "      <td>7</td>\n",
       "      <td>0.7579</td>\n",
       "      <td>Positive</td>\n",
       "    </tr>\n",
       "  </tbody>\n",
       "</table>\n",
       "</div>"
      ],
      "text/plain": [
       "                                                text rating   score  analysis\n",
       "0  Beautiful film but so preachyLoveofLegacy21 Ju...      6  0.9874  Positive\n",
       "1  Clever and fun beginning turns into another le...      6  0.9524  Positive\n",
       "2  It was depressingcoxaneesa24 July 2023Warning ...      8  0.7579  Positive\n",
       "3  A Technicolor Dreamheatherhilgers24 July 2023W...      9  0.9733  Positive\n",
       "4   reasons FOR seeing it and 1 reason AGAINSTims...      7  0.7579  Positive"
      ]
     },
     "execution_count": 11,
     "metadata": {},
     "output_type": "execute_result"
    }
   ],
   "source": [
    "#VADER (Valence Aware Dictionary and sEntiment Reasoner): This is a pre-trained sentiment analysis tool specifically designed for social media text. It's available through the nltk library and is particularly good at understanding sentiment in informal language.\n",
    "def vader_score(x):\n",
    "    analyzer = SentimentIntensityAnalyzer()\n",
    "    sentiment = analyzer.polarity_scores(x)\n",
    "    return sentiment['compound']\n",
    "\n",
    "def analyze(score):\n",
    "    if score >= 0.05:\n",
    "        return 'Positive'\n",
    "    elif score <= -0.05:\n",
    "        return 'Negative'\n",
    "    else:\n",
    "        return 'Neutral'\n",
    "\n",
    "# Calculate VADER sentiment scores and analysis labels\n",
    "Barbie_df['score'] = Barbie_df['text'].apply(vader_score)\n",
    "Barbie_df['analysis'] = Barbie_df['score'].apply(analyze)\n",
    "\n",
    "Barbie_df.head()\n",
    "#here analysis is done for text colume and the data is stored in analysis column\n",
    "\n",
    "#In this example, we've assumed that a sentiment score greater than or equal to 0.05 is considered positive, a score less than or equal to -0.05 is considered negative, and scores in between are considered neutral. You can adjust these thresholds based on your specific needs.\n",
    "#Remember to adjust the analyze function according to your specific requirements for labeling sentiment scores. Also, make sure you have the NLTK library installed to use the VADER sentiment analyzer.\n"
   ]
  },
  {
   "cell_type": "code",
   "execution_count": 12,
   "id": "2c1dd756",
   "metadata": {
    "execution": {
     "iopub.execute_input": "2023-08-16T23:06:19.943528Z",
     "iopub.status.busy": "2023-08-16T23:06:19.942581Z",
     "iopub.status.idle": "2023-08-16T23:06:19.949622Z",
     "shell.execute_reply": "2023-08-16T23:06:19.948554Z"
    },
    "papermill": {
     "duration": 0.026724,
     "end_time": "2023-08-16T23:06:19.952027",
     "exception": false,
     "start_time": "2023-08-16T23:06:19.925303",
     "status": "completed"
    },
    "tags": []
   },
   "outputs": [
    {
     "data": {
      "text/plain": [
       "array(['Positive', 'Negative', 'Neutral'], dtype=object)"
      ]
     },
     "execution_count": 12,
     "metadata": {},
     "output_type": "execute_result"
    }
   ],
   "source": [
    "Barbie_df['analysis'].unique()"
   ]
  },
  {
   "cell_type": "code",
   "execution_count": 13,
   "id": "ed9ee2d2",
   "metadata": {
    "execution": {
     "iopub.execute_input": "2023-08-16T23:06:19.986163Z",
     "iopub.status.busy": "2023-08-16T23:06:19.985767Z",
     "iopub.status.idle": "2023-08-16T23:06:19.994936Z",
     "shell.execute_reply": "2023-08-16T23:06:19.993705Z"
    },
    "papermill": {
     "duration": 0.029309,
     "end_time": "2023-08-16T23:06:19.997392",
     "exception": false,
     "start_time": "2023-08-16T23:06:19.968083",
     "status": "completed"
    },
    "tags": []
   },
   "outputs": [
    {
     "data": {
      "text/plain": [
       "1    264\n",
       "8    119\n",
       "6     90\n",
       "7     87\n",
       "9     81\n",
       "5     50\n",
       "3     39\n",
       "4     37\n",
       "2     23\n",
       "H      1\n",
       "B      1\n",
       "P      1\n",
       "M      1\n",
       "D      1\n",
       "T      1\n",
       "A      1\n",
       "Name: rating, dtype: int64"
      ]
     },
     "execution_count": 13,
     "metadata": {},
     "output_type": "execute_result"
    }
   ],
   "source": [
    "Barbie_df[\"rating\"].value_counts()"
   ]
  },
  {
   "cell_type": "code",
   "execution_count": 14,
   "id": "ddddf70d",
   "metadata": {
    "execution": {
     "iopub.execute_input": "2023-08-16T23:06:20.032206Z",
     "iopub.status.busy": "2023-08-16T23:06:20.031401Z",
     "iopub.status.idle": "2023-08-16T23:06:20.037925Z",
     "shell.execute_reply": "2023-08-16T23:06:20.036881Z"
    },
    "papermill": {
     "duration": 0.026732,
     "end_time": "2023-08-16T23:06:20.040389",
     "exception": false,
     "start_time": "2023-08-16T23:06:20.013657",
     "status": "completed"
    },
    "tags": []
   },
   "outputs": [],
   "source": [
    "characters_to_exclude = ['H', 'B', 'P', 'M', 'D', 'T', 'A']\n",
    "Barbie_df = Barbie_df[~Barbie_df['rating'].isin(characters_to_exclude)]\n"
   ]
  },
  {
   "cell_type": "code",
   "execution_count": 15,
   "id": "df9ff494",
   "metadata": {
    "execution": {
     "iopub.execute_input": "2023-08-16T23:06:20.077138Z",
     "iopub.status.busy": "2023-08-16T23:06:20.076735Z",
     "iopub.status.idle": "2023-08-16T23:06:20.085721Z",
     "shell.execute_reply": "2023-08-16T23:06:20.084528Z"
    },
    "papermill": {
     "duration": 0.031218,
     "end_time": "2023-08-16T23:06:20.088072",
     "exception": false,
     "start_time": "2023-08-16T23:06:20.056854",
     "status": "completed"
    },
    "tags": []
   },
   "outputs": [
    {
     "data": {
      "text/plain": [
       "1    264\n",
       "8    119\n",
       "6     90\n",
       "7     87\n",
       "9     81\n",
       "5     50\n",
       "3     39\n",
       "4     37\n",
       "2     23\n",
       "Name: rating, dtype: int64"
      ]
     },
     "execution_count": 15,
     "metadata": {},
     "output_type": "execute_result"
    }
   ],
   "source": [
    "Barbie_df[\"rating\"].value_counts()"
   ]
  },
  {
   "cell_type": "markdown",
   "id": "c505278e",
   "metadata": {
    "papermill": {
     "duration": 0.016648,
     "end_time": "2023-08-16T23:06:20.121018",
     "exception": false,
     "start_time": "2023-08-16T23:06:20.104370",
     "status": "completed"
    },
    "tags": []
   },
   "source": [
    "# Performing EDA"
   ]
  },
  {
   "cell_type": "code",
   "execution_count": 16,
   "id": "6db5267c",
   "metadata": {
    "execution": {
     "iopub.execute_input": "2023-08-16T23:06:20.156737Z",
     "iopub.status.busy": "2023-08-16T23:06:20.155763Z",
     "iopub.status.idle": "2023-08-16T23:06:20.178536Z",
     "shell.execute_reply": "2023-08-16T23:06:20.177279Z"
    },
    "papermill": {
     "duration": 0.04324,
     "end_time": "2023-08-16T23:06:20.181004",
     "exception": false,
     "start_time": "2023-08-16T23:06:20.137764",
     "status": "completed"
    },
    "tags": []
   },
   "outputs": [
    {
     "name": "stdout",
     "output_type": "stream",
     "text": [
      "<class 'pandas.core.frame.DataFrame'>\n",
      "Int64Index: 790 entries, 0 to 796\n",
      "Data columns (total 4 columns):\n",
      " #   Column    Non-Null Count  Dtype  \n",
      "---  ------    --------------  -----  \n",
      " 0   text      790 non-null    object \n",
      " 1   rating    790 non-null    object \n",
      " 2   score     790 non-null    float64\n",
      " 3   analysis  790 non-null    object \n",
      "dtypes: float64(1), object(3)\n",
      "memory usage: 30.9+ KB\n"
     ]
    },
    {
     "data": {
      "text/html": [
       "<div>\n",
       "<style scoped>\n",
       "    .dataframe tbody tr th:only-of-type {\n",
       "        vertical-align: middle;\n",
       "    }\n",
       "\n",
       "    .dataframe tbody tr th {\n",
       "        vertical-align: top;\n",
       "    }\n",
       "\n",
       "    .dataframe thead th {\n",
       "        text-align: right;\n",
       "    }\n",
       "</style>\n",
       "<table border=\"1\" class=\"dataframe\">\n",
       "  <thead>\n",
       "    <tr style=\"text-align: right;\">\n",
       "      <th></th>\n",
       "      <th>text</th>\n",
       "      <th>rating</th>\n",
       "      <th>score</th>\n",
       "      <th>analysis</th>\n",
       "    </tr>\n",
       "  </thead>\n",
       "  <tbody>\n",
       "    <tr>\n",
       "      <th>0</th>\n",
       "      <td>Beautiful film but so preachyLoveofLegacy21 Ju...</td>\n",
       "      <td>6</td>\n",
       "      <td>0.9874</td>\n",
       "      <td>Positive</td>\n",
       "    </tr>\n",
       "    <tr>\n",
       "      <th>1</th>\n",
       "      <td>Clever and fun beginning turns into another le...</td>\n",
       "      <td>6</td>\n",
       "      <td>0.9524</td>\n",
       "      <td>Positive</td>\n",
       "    </tr>\n",
       "    <tr>\n",
       "      <th>2</th>\n",
       "      <td>It was depressingcoxaneesa24 July 2023Warning ...</td>\n",
       "      <td>8</td>\n",
       "      <td>0.7579</td>\n",
       "      <td>Positive</td>\n",
       "    </tr>\n",
       "    <tr>\n",
       "      <th>3</th>\n",
       "      <td>A Technicolor Dreamheatherhilgers24 July 2023W...</td>\n",
       "      <td>9</td>\n",
       "      <td>0.9733</td>\n",
       "      <td>Positive</td>\n",
       "    </tr>\n",
       "    <tr>\n",
       "      <th>4</th>\n",
       "      <td>reasons FOR seeing it and 1 reason AGAINSTims...</td>\n",
       "      <td>7</td>\n",
       "      <td>0.7579</td>\n",
       "      <td>Positive</td>\n",
       "    </tr>\n",
       "  </tbody>\n",
       "</table>\n",
       "</div>"
      ],
      "text/plain": [
       "                                                text rating   score  analysis\n",
       "0  Beautiful film but so preachyLoveofLegacy21 Ju...      6  0.9874  Positive\n",
       "1  Clever and fun beginning turns into another le...      6  0.9524  Positive\n",
       "2  It was depressingcoxaneesa24 July 2023Warning ...      8  0.7579  Positive\n",
       "3  A Technicolor Dreamheatherhilgers24 July 2023W...      9  0.9733  Positive\n",
       "4   reasons FOR seeing it and 1 reason AGAINSTims...      7  0.7579  Positive"
      ]
     },
     "execution_count": 16,
     "metadata": {},
     "output_type": "execute_result"
    }
   ],
   "source": [
    "# Display basic information about the dataset\n",
    "Barbie_df.info()\n",
    "\n",
    "# Display the first few rows of the dataset\n",
    "Barbie_df.head()"
   ]
  },
  {
   "cell_type": "code",
   "execution_count": 17,
   "id": "84e6461d",
   "metadata": {
    "execution": {
     "iopub.execute_input": "2023-08-16T23:06:20.217813Z",
     "iopub.status.busy": "2023-08-16T23:06:20.216948Z",
     "iopub.status.idle": "2023-08-16T23:06:20.564780Z",
     "shell.execute_reply": "2023-08-16T23:06:20.563668Z"
    },
    "papermill": {
     "duration": 0.369049,
     "end_time": "2023-08-16T23:06:20.567417",
     "exception": false,
     "start_time": "2023-08-16T23:06:20.198368",
     "status": "completed"
    },
    "tags": []
   },
   "outputs": [
    {
     "data": {
      "image/png": "[encoded data removed]",
      "text/plain": [
       "<Figure size 800x600 with 1 Axes>"
      ]
     },
     "metadata": {},
     "output_type": "display_data"
    }
   ],
   "source": [
    "# Check the distribution of ratings\n",
    "plt.figure(figsize=(8, 6))\n",
    "sns.countplot(data=Barbie_df, x='rating', palette='Set2')\n",
    "plt.title(\"Distribution of Ratings\")\n",
    "plt.xlabel(\"Rating\")\n",
    "plt.ylabel(\"Count\")\n",
    "plt.show()"
   ]
  },
  {
   "cell_type": "code",
   "execution_count": 18,
   "id": "c544aed1",
   "metadata": {
    "execution": {
     "iopub.execute_input": "2023-08-16T23:06:20.603908Z",
     "iopub.status.busy": "2023-08-16T23:06:20.603539Z",
     "iopub.status.idle": "2023-08-16T23:06:20.869317Z",
     "shell.execute_reply": "2023-08-16T23:06:20.867983Z"
    },
    "papermill": {
     "duration": 0.286758,
     "end_time": "2023-08-16T23:06:20.871921",
     "exception": false,
     "start_time": "2023-08-16T23:06:20.585163",
     "status": "completed"
    },
    "tags": []
   },
   "outputs": [
    {
     "data": {
      "image/png": "[encoded data removed]",
      "text/plain": [
       "<Figure size 800x600 with 1 Axes>"
      ]
     },
     "metadata": {},
     "output_type": "display_data"
    }
   ],
   "source": [
    "# Check the distribution of sentiment analysis\n",
    "plt.figure(figsize=(8, 6))\n",
    "sns.countplot(data=Barbie_df, x='analysis', palette='Set1',\n",
    "              order=['positive', 'neutral', 'negative'])\n",
    "plt.title(\"Distribution of Sentiment Analysis\")\n",
    "plt.xlabel(\"Sentiment Analysis\")\n",
    "plt.ylabel(\"Count\")\n",
    "plt.show()"
   ]
  },
  {
   "cell_type": "code",
   "execution_count": 19,
   "id": "82937ed1",
   "metadata": {
    "execution": {
     "iopub.execute_input": "2023-08-16T23:06:20.909223Z",
     "iopub.status.busy": "2023-08-16T23:06:20.908833Z",
     "iopub.status.idle": "2023-08-16T23:06:21.172863Z",
     "shell.execute_reply": "2023-08-16T23:06:21.171543Z"
    },
    "papermill": {
     "duration": 0.285454,
     "end_time": "2023-08-16T23:06:21.175284",
     "exception": false,
     "start_time": "2023-08-16T23:06:20.889830",
     "status": "completed"
    },
    "tags": []
   },
   "outputs": [
    {
     "data": {
      "image/png": "[encoded data removed]",
      "text/plain": [
       "<Figure size 1000x600 with 1 Axes>"
      ]
     },
     "metadata": {},
     "output_type": "display_data"
    }
   ],
   "source": [
    "# Box plot of sentiment score by analysis category\n",
    "plt.figure(figsize=(10, 6))\n",
    "sns.boxplot(data=Barbie_df, x='analysis', y='score', palette='Set3',\n",
    "            order=['positive', 'neutral', 'negative'])\n",
    "plt.title(\"Sentiment Score Distribution by Sentiment Analysis\")\n",
    "plt.xlabel(\"Sentiment Analysis\")\n",
    "plt.ylabel(\"Sentiment Score\")\n",
    "plt.show()"
   ]
  },
  {
   "cell_type": "code",
   "execution_count": 20,
   "id": "38249a40",
   "metadata": {
    "execution": {
     "iopub.execute_input": "2023-08-16T23:06:21.213150Z",
     "iopub.status.busy": "2023-08-16T23:06:21.212764Z",
     "iopub.status.idle": "2023-08-16T23:06:21.802427Z",
     "shell.execute_reply": "2023-08-16T23:06:21.801202Z"
    },
    "papermill": {
     "duration": 0.611652,
     "end_time": "2023-08-16T23:06:21.805209",
     "exception": false,
     "start_time": "2023-08-16T23:06:21.193557",
     "status": "completed"
    },
    "tags": []
   },
   "outputs": [
    {
     "data": {
      "image/png": "[encoded data removed]",
      "text/plain": [
       "<Figure size 317.361x250 with 2 Axes>"
      ]
     },
     "metadata": {},
     "output_type": "display_data"
    }
   ],
   "source": [
    "# Pairplot to explore relationships between numerical variables\n",
    "sns.pairplot(Barbie_df, hue='analysis', diag_kind='kde', palette='Set2')\n",
    "plt.title(\"Pairplot of Numerical Variables\")\n",
    "plt.show()\n"
   ]
  },
  {
   "cell_type": "code",
   "execution_count": 21,
   "id": "c8255b5c",
   "metadata": {
    "execution": {
     "iopub.execute_input": "2023-08-16T23:06:21.843905Z",
     "iopub.status.busy": "2023-08-16T23:06:21.843482Z",
     "iopub.status.idle": "2023-08-16T23:06:22.657794Z",
     "shell.execute_reply": "2023-08-16T23:06:22.656590Z"
    },
    "papermill": {
     "duration": 0.836692,
     "end_time": "2023-08-16T23:06:22.660298",
     "exception": false,
     "start_time": "2023-08-16T23:06:21.823606",
     "status": "completed"
    },
    "tags": []
   },
   "outputs": [
    {
     "data": {
      "text/plain": [
       "<Figure size 1000x600 with 0 Axes>"
      ]
     },
     "metadata": {},
     "output_type": "display_data"
    },
    {
     "data": {
      "image/png": "[encoded data removed]",
      "text/plain": [
       "<Figure size 964.75x600 with 1 Axes>"
      ]
     },
     "metadata": {},
     "output_type": "display_data"
    }
   ],
   "source": [
    "\n",
    "# Set the style of the plot\n",
    "sns.set(style=\"whitegrid\")\n",
    "\n",
    "# Create a bar plot using Seaborn's catplot\n",
    "plt.figure(figsize=(10, 6))\n",
    "sns.catplot(x='analysis', data=Barbie_df, kind='count', hue='rating', palette='Set2', height=6, aspect=1.5)\n",
    "\n",
    "# Set plot title and labels\n",
    "plt.title(\"Sentiment Analysis by Rating\")\n",
    "plt.xlabel(\"Sentiment Analysis\")\n",
    "plt.ylabel(\"Count\")\n",
    "\n",
    "# Show the plot\n",
    "plt.show()\n",
    "\n",
    "#In this code, the sns.catplot function is used to create a categorical plot (bar plot) with 'analysis' on the x-axis and different colors for each 'rating'. The palette parameter specifies the color palette to use.\n",
    "#Remember to replace 'Barbie_df' with the actual name of your DataFrame. This approach provides a more visually appealing and informative bar plot using Seaborn's styling and color palette capabilities."
   ]
  },
  {
   "cell_type": "code",
   "execution_count": 22,
   "id": "3d0f8d42",
   "metadata": {
    "execution": {
     "iopub.execute_input": "2023-08-16T23:06:22.701074Z",
     "iopub.status.busy": "2023-08-16T23:06:22.700667Z",
     "iopub.status.idle": "2023-08-16T23:06:22.717641Z",
     "shell.execute_reply": "2023-08-16T23:06:22.716303Z"
    },
    "papermill": {
     "duration": 0.040289,
     "end_time": "2023-08-16T23:06:22.720138",
     "exception": false,
     "start_time": "2023-08-16T23:06:22.679849",
     "status": "completed"
    },
    "tags": []
   },
   "outputs": [
    {
     "data": {
      "text/html": [
       "<div>\n",
       "<style scoped>\n",
       "    .dataframe tbody tr th:only-of-type {\n",
       "        vertical-align: middle;\n",
       "    }\n",
       "\n",
       "    .dataframe tbody tr th {\n",
       "        vertical-align: top;\n",
       "    }\n",
       "\n",
       "    .dataframe thead th {\n",
       "        text-align: right;\n",
       "    }\n",
       "</style>\n",
       "<table border=\"1\" class=\"dataframe\">\n",
       "  <thead>\n",
       "    <tr style=\"text-align: right;\">\n",
       "      <th></th>\n",
       "      <th>score</th>\n",
       "    </tr>\n",
       "  </thead>\n",
       "  <tbody>\n",
       "    <tr>\n",
       "      <th>count</th>\n",
       "      <td>790.000000</td>\n",
       "    </tr>\n",
       "    <tr>\n",
       "      <th>mean</th>\n",
       "      <td>0.894535</td>\n",
       "    </tr>\n",
       "    <tr>\n",
       "      <th>std</th>\n",
       "      <td>0.228164</td>\n",
       "    </tr>\n",
       "    <tr>\n",
       "      <th>min</th>\n",
       "      <td>-0.858000</td>\n",
       "    </tr>\n",
       "    <tr>\n",
       "      <th>25%</th>\n",
       "      <td>0.880475</td>\n",
       "    </tr>\n",
       "    <tr>\n",
       "      <th>50%</th>\n",
       "      <td>0.979250</td>\n",
       "    </tr>\n",
       "    <tr>\n",
       "      <th>75%</th>\n",
       "      <td>0.992600</td>\n",
       "    </tr>\n",
       "    <tr>\n",
       "      <th>max</th>\n",
       "      <td>0.999900</td>\n",
       "    </tr>\n",
       "  </tbody>\n",
       "</table>\n",
       "</div>"
      ],
      "text/plain": [
       "            score\n",
       "count  790.000000\n",
       "mean     0.894535\n",
       "std      0.228164\n",
       "min     -0.858000\n",
       "25%      0.880475\n",
       "50%      0.979250\n",
       "75%      0.992600\n",
       "max      0.999900"
      ]
     },
     "execution_count": 22,
     "metadata": {},
     "output_type": "execute_result"
    }
   ],
   "source": [
    "Barbie_df.describe()"
   ]
  },
  {
   "cell_type": "code",
   "execution_count": 23,
   "id": "01b478d5",
   "metadata": {
    "execution": {
     "iopub.execute_input": "2023-08-16T23:06:22.761751Z",
     "iopub.status.busy": "2023-08-16T23:06:22.761309Z",
     "iopub.status.idle": "2023-08-16T23:06:22.767167Z",
     "shell.execute_reply": "2023-08-16T23:06:22.766066Z"
    },
    "papermill": {
     "duration": 0.029099,
     "end_time": "2023-08-16T23:06:22.769374",
     "exception": false,
     "start_time": "2023-08-16T23:06:22.740275",
     "status": "completed"
    },
    "tags": []
   },
   "outputs": [],
   "source": [
    "def rating(x):\n",
    "    if x>=8 and x<=10:\n",
    "        return 'Positive'\n",
    "    elif x>=4 and x<=7:\n",
    "         return 'Neutral'\n",
    "    else:\n",
    "         return 'Negative'"
   ]
  },
  {
   "cell_type": "code",
   "execution_count": 24,
   "id": "926a2757",
   "metadata": {
    "execution": {
     "iopub.execute_input": "2023-08-16T23:06:22.809959Z",
     "iopub.status.busy": "2023-08-16T23:06:22.809559Z",
     "iopub.status.idle": "2023-08-16T23:06:22.816372Z",
     "shell.execute_reply": "2023-08-16T23:06:22.815185Z"
    },
    "papermill": {
     "duration": 0.030098,
     "end_time": "2023-08-16T23:06:22.818912",
     "exception": false,
     "start_time": "2023-08-16T23:06:22.788814",
     "status": "completed"
    },
    "tags": []
   },
   "outputs": [],
   "source": [
    "Barbie_df['rating'] = Barbie_df['rating'].astype(int)"
   ]
  },
  {
   "cell_type": "code",
   "execution_count": 25,
   "id": "f3b90061",
   "metadata": {
    "execution": {
     "iopub.execute_input": "2023-08-16T23:06:22.859769Z",
     "iopub.status.busy": "2023-08-16T23:06:22.859313Z",
     "iopub.status.idle": "2023-08-16T23:06:22.866766Z",
     "shell.execute_reply": "2023-08-16T23:06:22.865449Z"
    },
    "papermill": {
     "duration": 0.03054,
     "end_time": "2023-08-16T23:06:22.868949",
     "exception": false,
     "start_time": "2023-08-16T23:06:22.838409",
     "status": "completed"
    },
    "tags": []
   },
   "outputs": [],
   "source": [
    "Barbie_df['rating_analysis']=Barbie_df['rating'].apply(rating)"
   ]
  },
  {
   "cell_type": "code",
   "execution_count": 26,
   "id": "6023c522",
   "metadata": {
    "execution": {
     "iopub.execute_input": "2023-08-16T23:06:22.909804Z",
     "iopub.status.busy": "2023-08-16T23:06:22.909357Z",
     "iopub.status.idle": "2023-08-16T23:06:22.917383Z",
     "shell.execute_reply": "2023-08-16T23:06:22.915992Z"
    },
    "papermill": {
     "duration": 0.031307,
     "end_time": "2023-08-16T23:06:22.919697",
     "exception": false,
     "start_time": "2023-08-16T23:06:22.888390",
     "status": "completed"
    },
    "tags": []
   },
   "outputs": [
    {
     "data": {
      "text/plain": [
       "dtype('int64')"
      ]
     },
     "execution_count": 26,
     "metadata": {},
     "output_type": "execute_result"
    }
   ],
   "source": [
    "Barbie_df['rating'].dtypes"
   ]
  },
  {
   "cell_type": "code",
   "execution_count": 27,
   "id": "0de0e62f",
   "metadata": {
    "execution": {
     "iopub.execute_input": "2023-08-16T23:06:22.963649Z",
     "iopub.status.busy": "2023-08-16T23:06:22.963188Z",
     "iopub.status.idle": "2023-08-16T23:06:22.968196Z",
     "shell.execute_reply": "2023-08-16T23:06:22.967084Z"
    },
    "papermill": {
     "duration": 0.029571,
     "end_time": "2023-08-16T23:06:22.970405",
     "exception": false,
     "start_time": "2023-08-16T23:06:22.940834",
     "status": "completed"
    },
    "tags": []
   },
   "outputs": [],
   "source": [
    "Barbie_df.reset_index(inplace = True,drop=True)"
   ]
  },
  {
   "cell_type": "code",
   "execution_count": 28,
   "id": "9fbc1713",
   "metadata": {
    "execution": {
     "iopub.execute_input": "2023-08-16T23:06:23.012685Z",
     "iopub.status.busy": "2023-08-16T23:06:23.011401Z",
     "iopub.status.idle": "2023-08-16T23:06:23.016914Z",
     "shell.execute_reply": "2023-08-16T23:06:23.016096Z"
    },
    "papermill": {
     "duration": 0.028694,
     "end_time": "2023-08-16T23:06:23.019296",
     "exception": false,
     "start_time": "2023-08-16T23:06:22.990602",
     "status": "completed"
    },
    "tags": []
   },
   "outputs": [],
   "source": [
    "Barbie_df['final_analysis'] = 'Postive'"
   ]
  },
  {
   "cell_type": "code",
   "execution_count": 29,
   "id": "bd62ffdb",
   "metadata": {
    "execution": {
     "iopub.execute_input": "2023-08-16T23:06:23.062044Z",
     "iopub.status.busy": "2023-08-16T23:06:23.060959Z",
     "iopub.status.idle": "2023-08-16T23:06:23.081113Z",
     "shell.execute_reply": "2023-08-16T23:06:23.079996Z"
    },
    "papermill": {
     "duration": 0.044995,
     "end_time": "2023-08-16T23:06:23.084083",
     "exception": false,
     "start_time": "2023-08-16T23:06:23.039088",
     "status": "completed"
    },
    "tags": []
   },
   "outputs": [
    {
     "data": {
      "text/html": [
       "<div>\n",
       "<style scoped>\n",
       "    .dataframe tbody tr th:only-of-type {\n",
       "        vertical-align: middle;\n",
       "    }\n",
       "\n",
       "    .dataframe tbody tr th {\n",
       "        vertical-align: top;\n",
       "    }\n",
       "\n",
       "    .dataframe thead th {\n",
       "        text-align: right;\n",
       "    }\n",
       "</style>\n",
       "<table border=\"1\" class=\"dataframe\">\n",
       "  <thead>\n",
       "    <tr style=\"text-align: right;\">\n",
       "      <th></th>\n",
       "      <th>text</th>\n",
       "      <th>rating</th>\n",
       "      <th>score</th>\n",
       "      <th>analysis</th>\n",
       "      <th>rating_analysis</th>\n",
       "      <th>final_analysis</th>\n",
       "    </tr>\n",
       "  </thead>\n",
       "  <tbody>\n",
       "    <tr>\n",
       "      <th>0</th>\n",
       "      <td>Beautiful film but so preachyLoveofLegacy21 Ju...</td>\n",
       "      <td>6</td>\n",
       "      <td>0.9874</td>\n",
       "      <td>Positive</td>\n",
       "      <td>Neutral</td>\n",
       "      <td>Postive</td>\n",
       "    </tr>\n",
       "    <tr>\n",
       "      <th>1</th>\n",
       "      <td>Clever and fun beginning turns into another le...</td>\n",
       "      <td>6</td>\n",
       "      <td>0.9524</td>\n",
       "      <td>Positive</td>\n",
       "      <td>Neutral</td>\n",
       "      <td>Postive</td>\n",
       "    </tr>\n",
       "    <tr>\n",
       "      <th>2</th>\n",
       "      <td>It was depressingcoxaneesa24 July 2023Warning ...</td>\n",
       "      <td>8</td>\n",
       "      <td>0.7579</td>\n",
       "      <td>Positive</td>\n",
       "      <td>Positive</td>\n",
       "      <td>Postive</td>\n",
       "    </tr>\n",
       "    <tr>\n",
       "      <th>3</th>\n",
       "      <td>A Technicolor Dreamheatherhilgers24 July 2023W...</td>\n",
       "      <td>9</td>\n",
       "      <td>0.9733</td>\n",
       "      <td>Positive</td>\n",
       "      <td>Positive</td>\n",
       "      <td>Postive</td>\n",
       "    </tr>\n",
       "    <tr>\n",
       "      <th>4</th>\n",
       "      <td>reasons FOR seeing it and 1 reason AGAINSTims...</td>\n",
       "      <td>7</td>\n",
       "      <td>0.7579</td>\n",
       "      <td>Positive</td>\n",
       "      <td>Neutral</td>\n",
       "      <td>Postive</td>\n",
       "    </tr>\n",
       "    <tr>\n",
       "      <th>5</th>\n",
       "      <td>Barbie Is A Weirdly Fun MovieHabibieHakim12319...</td>\n",
       "      <td>8</td>\n",
       "      <td>0.9989</td>\n",
       "      <td>Positive</td>\n",
       "      <td>Positive</td>\n",
       "      <td>Postive</td>\n",
       "    </tr>\n",
       "    <tr>\n",
       "      <th>6</th>\n",
       "      <td>Too heavy handedNatcat8722 July 2023Warning Sp...</td>\n",
       "      <td>6</td>\n",
       "      <td>0.7579</td>\n",
       "      <td>Positive</td>\n",
       "      <td>Neutral</td>\n",
       "      <td>Postive</td>\n",
       "    </tr>\n",
       "    <tr>\n",
       "      <th>7</th>\n",
       "      <td>Fun and surprisingly touchingjpismyname19 July...</td>\n",
       "      <td>8</td>\n",
       "      <td>0.9978</td>\n",
       "      <td>Positive</td>\n",
       "      <td>Positive</td>\n",
       "      <td>Postive</td>\n",
       "    </tr>\n",
       "    <tr>\n",
       "      <th>8</th>\n",
       "      <td>High Highs Low LowsLk199024 July 2023The first...</td>\n",
       "      <td>6</td>\n",
       "      <td>0.9974</td>\n",
       "      <td>Positive</td>\n",
       "      <td>Neutral</td>\n",
       "      <td>Postive</td>\n",
       "    </tr>\n",
       "    <tr>\n",
       "      <th>9</th>\n",
       "      <td>Well this really did come as a surpriseSleepin...</td>\n",
       "      <td>8</td>\n",
       "      <td>0.9984</td>\n",
       "      <td>Positive</td>\n",
       "      <td>Positive</td>\n",
       "      <td>Postive</td>\n",
       "    </tr>\n",
       "    <tr>\n",
       "      <th>10</th>\n",
       "      <td>My mom and I saw this yesterday Here are my th...</td>\n",
       "      <td>6</td>\n",
       "      <td>0.7579</td>\n",
       "      <td>Positive</td>\n",
       "      <td>Neutral</td>\n",
       "      <td>Postive</td>\n",
       "    </tr>\n",
       "    <tr>\n",
       "      <th>11</th>\n",
       "      <td>The marketing was more entertaining than the a...</td>\n",
       "      <td>4</td>\n",
       "      <td>0.8655</td>\n",
       "      <td>Positive</td>\n",
       "      <td>Neutral</td>\n",
       "      <td>Postive</td>\n",
       "    </tr>\n",
       "    <tr>\n",
       "      <th>12</th>\n",
       "      <td>Ken out of tenfinnconnelly6301722 July 2023Wow...</td>\n",
       "      <td>1</td>\n",
       "      <td>0.9928</td>\n",
       "      <td>Positive</td>\n",
       "      <td>Negative</td>\n",
       "      <td>Postive</td>\n",
       "    </tr>\n",
       "    <tr>\n",
       "      <th>13</th>\n",
       "      <td>Barbie  A Multifaceted Exploration of Feminini...</td>\n",
       "      <td>8</td>\n",
       "      <td>0.9939</td>\n",
       "      <td>Positive</td>\n",
       "      <td>Positive</td>\n",
       "      <td>Postive</td>\n",
       "    </tr>\n",
       "    <tr>\n",
       "      <th>14</th>\n",
       "      <td>It could have been so much betterhamsterinatio...</td>\n",
       "      <td>6</td>\n",
       "      <td>0.9681</td>\n",
       "      <td>Positive</td>\n",
       "      <td>Neutral</td>\n",
       "      <td>Postive</td>\n",
       "    </tr>\n",
       "    <tr>\n",
       "      <th>15</th>\n",
       "      <td>not for everyoneanjamulder19 July 2023This is ...</td>\n",
       "      <td>8</td>\n",
       "      <td>0.9766</td>\n",
       "      <td>Positive</td>\n",
       "      <td>Positive</td>\n",
       "      <td>Postive</td>\n",
       "    </tr>\n",
       "    <tr>\n",
       "      <th>16</th>\n",
       "      <td>Brilliant observations but social depth is mis...</td>\n",
       "      <td>6</td>\n",
       "      <td>0.9032</td>\n",
       "      <td>Positive</td>\n",
       "      <td>Neutral</td>\n",
       "      <td>Postive</td>\n",
       "    </tr>\n",
       "    <tr>\n",
       "      <th>17</th>\n",
       "      <td>You are KenoughGenti2520 July 2023This movie i...</td>\n",
       "      <td>8</td>\n",
       "      <td>0.9514</td>\n",
       "      <td>Positive</td>\n",
       "      <td>Positive</td>\n",
       "      <td>Postive</td>\n",
       "    </tr>\n",
       "    <tr>\n",
       "      <th>18</th>\n",
       "      <td>Amazing Cast  Set but the political message wa...</td>\n",
       "      <td>6</td>\n",
       "      <td>0.9032</td>\n",
       "      <td>Positive</td>\n",
       "      <td>Neutral</td>\n",
       "      <td>Postive</td>\n",
       "    </tr>\n",
       "    <tr>\n",
       "      <th>19</th>\n",
       "      <td>Wildly Pinkfaeezrizwan19 July 2023Warning Spoi...</td>\n",
       "      <td>9</td>\n",
       "      <td>0.7579</td>\n",
       "      <td>Positive</td>\n",
       "      <td>Positive</td>\n",
       "      <td>Postive</td>\n",
       "    </tr>\n",
       "    <tr>\n",
       "      <th>20</th>\n",
       "      <td>Could Have Been Great 2nd Half Brings It DownR...</td>\n",
       "      <td>6</td>\n",
       "      <td>0.9869</td>\n",
       "      <td>Positive</td>\n",
       "      <td>Neutral</td>\n",
       "      <td>Postive</td>\n",
       "    </tr>\n",
       "    <tr>\n",
       "      <th>21</th>\n",
       "      <td>Somewhat of a Jumbled Messherrcarter9216123 Ju...</td>\n",
       "      <td>5</td>\n",
       "      <td>0.7579</td>\n",
       "      <td>Positive</td>\n",
       "      <td>Neutral</td>\n",
       "      <td>Postive</td>\n",
       "    </tr>\n",
       "    <tr>\n",
       "      <th>22</th>\n",
       "      <td>The best version of itselfmasonsaul21 July 202...</td>\n",
       "      <td>1</td>\n",
       "      <td>0.9974</td>\n",
       "      <td>Positive</td>\n",
       "      <td>Negative</td>\n",
       "      <td>Postive</td>\n",
       "    </tr>\n",
       "    <tr>\n",
       "      <th>23</th>\n",
       "      <td>Creative but preachy and confusingImshortok062...</td>\n",
       "      <td>6</td>\n",
       "      <td>0.9905</td>\n",
       "      <td>Positive</td>\n",
       "      <td>Neutral</td>\n",
       "      <td>Postive</td>\n",
       "    </tr>\n",
       "    <tr>\n",
       "      <th>24</th>\n",
       "      <td>I am Kenougheoinageary23 July 2023So I went in...</td>\n",
       "      <td>8</td>\n",
       "      <td>0.9121</td>\n",
       "      <td>Positive</td>\n",
       "      <td>Positive</td>\n",
       "      <td>Postive</td>\n",
       "    </tr>\n",
       "    <tr>\n",
       "      <th>25</th>\n",
       "      <td>Didnt hit my pink spottmsheehan19 July 2023War...</td>\n",
       "      <td>6</td>\n",
       "      <td>0.7579</td>\n",
       "      <td>Positive</td>\n",
       "      <td>Neutral</td>\n",
       "      <td>Postive</td>\n",
       "    </tr>\n",
       "    <tr>\n",
       "      <th>26</th>\n",
       "      <td>Its like GI JoeFor girls Seriously and I love ...</td>\n",
       "      <td>8</td>\n",
       "      <td>0.9894</td>\n",
       "      <td>Positive</td>\n",
       "      <td>Positive</td>\n",
       "      <td>Postive</td>\n",
       "    </tr>\n",
       "  </tbody>\n",
       "</table>\n",
       "</div>"
      ],
      "text/plain": [
       "                                                 text  rating   score  \\\n",
       "0   Beautiful film but so preachyLoveofLegacy21 Ju...       6  0.9874   \n",
       "1   Clever and fun beginning turns into another le...       6  0.9524   \n",
       "2   It was depressingcoxaneesa24 July 2023Warning ...       8  0.7579   \n",
       "3   A Technicolor Dreamheatherhilgers24 July 2023W...       9  0.9733   \n",
       "4    reasons FOR seeing it and 1 reason AGAINSTims...       7  0.7579   \n",
       "5   Barbie Is A Weirdly Fun MovieHabibieHakim12319...       8  0.9989   \n",
       "6   Too heavy handedNatcat8722 July 2023Warning Sp...       6  0.7579   \n",
       "7   Fun and surprisingly touchingjpismyname19 July...       8  0.9978   \n",
       "8   High Highs Low LowsLk199024 July 2023The first...       6  0.9974   \n",
       "9   Well this really did come as a surpriseSleepin...       8  0.9984   \n",
       "10  My mom and I saw this yesterday Here are my th...       6  0.7579   \n",
       "11  The marketing was more entertaining than the a...       4  0.8655   \n",
       "12  Ken out of tenfinnconnelly6301722 July 2023Wow...       1  0.9928   \n",
       "13  Barbie  A Multifaceted Exploration of Feminini...       8  0.9939   \n",
       "14  It could have been so much betterhamsterinatio...       6  0.9681   \n",
       "15  not for everyoneanjamulder19 July 2023This is ...       8  0.9766   \n",
       "16  Brilliant observations but social depth is mis...       6  0.9032   \n",
       "17  You are KenoughGenti2520 July 2023This movie i...       8  0.9514   \n",
       "18  Amazing Cast  Set but the political message wa...       6  0.9032   \n",
       "19  Wildly Pinkfaeezrizwan19 July 2023Warning Spoi...       9  0.7579   \n",
       "20  Could Have Been Great 2nd Half Brings It DownR...       6  0.9869   \n",
       "21  Somewhat of a Jumbled Messherrcarter9216123 Ju...       5  0.7579   \n",
       "22  The best version of itselfmasonsaul21 July 202...       1  0.9974   \n",
       "23  Creative but preachy and confusingImshortok062...       6  0.9905   \n",
       "24  I am Kenougheoinageary23 July 2023So I went in...       8  0.9121   \n",
       "25  Didnt hit my pink spottmsheehan19 July 2023War...       6  0.7579   \n",
       "26  Its like GI JoeFor girls Seriously and I love ...       8  0.9894   \n",
       "\n",
       "    analysis rating_analysis final_analysis  \n",
       "0   Positive         Neutral        Postive  \n",
       "1   Positive         Neutral        Postive  \n",
       "2   Positive        Positive        Postive  \n",
       "3   Positive        Positive        Postive  \n",
       "4   Positive         Neutral        Postive  \n",
       "5   Positive        Positive        Postive  \n",
       "6   Positive         Neutral        Postive  \n",
       "7   Positive        Positive        Postive  \n",
       "8   Positive         Neutral        Postive  \n",
       "9   Positive        Positive        Postive  \n",
       "10  Positive         Neutral        Postive  \n",
       "11  Positive         Neutral        Postive  \n",
       "12  Positive        Negative        Postive  \n",
       "13  Positive        Positive        Postive  \n",
       "14  Positive         Neutral        Postive  \n",
       "15  Positive        Positive        Postive  \n",
       "16  Positive         Neutral        Postive  \n",
       "17  Positive        Positive        Postive  \n",
       "18  Positive         Neutral        Postive  \n",
       "19  Positive        Positive        Postive  \n",
       "20  Positive         Neutral        Postive  \n",
       "21  Positive         Neutral        Postive  \n",
       "22  Positive        Negative        Postive  \n",
       "23  Positive         Neutral        Postive  \n",
       "24  Positive        Positive        Postive  \n",
       "25  Positive         Neutral        Postive  \n",
       "26  Positive        Positive        Postive  "
      ]
     },
     "execution_count": 29,
     "metadata": {},
     "output_type": "execute_result"
    }
   ],
   "source": [
    "Barbie_df.head(27)"
   ]
  },
  {
   "cell_type": "code",
   "execution_count": 30,
   "id": "63a26d62",
   "metadata": {
    "execution": {
     "iopub.execute_input": "2023-08-16T23:06:23.133729Z",
     "iopub.status.busy": "2023-08-16T23:06:23.132913Z",
     "iopub.status.idle": "2023-08-16T23:06:23.169599Z",
     "shell.execute_reply": "2023-08-16T23:06:23.167834Z"
    },
    "papermill": {
     "duration": 0.068709,
     "end_time": "2023-08-16T23:06:23.173062",
     "exception": false,
     "start_time": "2023-08-16T23:06:23.104353",
     "status": "completed"
    },
    "tags": []
   },
   "outputs": [],
   "source": [
    "import numpy as np\n",
    "\n",
    "Barbie_df['final_analysis'] = np.where(\n",
    "    (Barbie_df['analysis'] == 'Positive') & (Barbie_df['rating_analysis'] == 'Positive'),\n",
    "    'Positive',\n",
    "    np.where(\n",
    "        ((Barbie_df['analysis'] == 'Positive') & (Barbie_df['rating_analysis'] == 'Neutral')) |\n",
    "        ((Barbie_df['analysis'] == 'Neutral') & (Barbie_df['rating_analysis'] == 'Positive')),\n",
    "        'Positive',\n",
    "        np.where(\n",
    "            ((Barbie_df['analysis'] == 'Negative') & (Barbie_df['rating_analysis'] == 'Neutral')) |\n",
    "            ((Barbie_df['analysis'] == 'Neutral') & (Barbie_df['rating_analysis'] == 'Negative')),\n",
    "            'Neutral',\n",
    "            np.where(\n",
    "                (Barbie_df['analysis'] == 'Neutral') & (Barbie_df['rating_analysis'] == 'Neutral'),\n",
    "                'Neutral',\n",
    "                np.where(\n",
    "                    (Barbie_df['analysis'] == 'Negative') & (Barbie_df['rating_analysis'] == 'Negative'),\n",
    "                    'Negative',\n",
    "                    'Neutral'\n",
    "                )\n",
    "            )\n",
    "        )\n",
    "    )\n",
    ")\n"
   ]
  },
  {
   "cell_type": "code",
   "execution_count": 31,
   "id": "4df3296d",
   "metadata": {
    "execution": {
     "iopub.execute_input": "2023-08-16T23:06:23.224808Z",
     "iopub.status.busy": "2023-08-16T23:06:23.224062Z",
     "iopub.status.idle": "2023-08-16T23:06:23.244653Z",
     "shell.execute_reply": "2023-08-16T23:06:23.243477Z"
    },
    "papermill": {
     "duration": 0.05029,
     "end_time": "2023-08-16T23:06:23.247076",
     "exception": false,
     "start_time": "2023-08-16T23:06:23.196786",
     "status": "completed"
    },
    "tags": []
   },
   "outputs": [
    {
     "data": {
      "text/html": [
       "<div>\n",
       "<style scoped>\n",
       "    .dataframe tbody tr th:only-of-type {\n",
       "        vertical-align: middle;\n",
       "    }\n",
       "\n",
       "    .dataframe tbody tr th {\n",
       "        vertical-align: top;\n",
       "    }\n",
       "\n",
       "    .dataframe thead th {\n",
       "        text-align: right;\n",
       "    }\n",
       "</style>\n",
       "<table border=\"1\" class=\"dataframe\">\n",
       "  <thead>\n",
       "    <tr style=\"text-align: right;\">\n",
       "      <th></th>\n",
       "      <th>text</th>\n",
       "      <th>rating</th>\n",
       "      <th>score</th>\n",
       "      <th>analysis</th>\n",
       "      <th>rating_analysis</th>\n",
       "      <th>final_analysis</th>\n",
       "    </tr>\n",
       "  </thead>\n",
       "  <tbody>\n",
       "    <tr>\n",
       "      <th>0</th>\n",
       "      <td>Beautiful film but so preachyLoveofLegacy21 Ju...</td>\n",
       "      <td>6</td>\n",
       "      <td>0.9874</td>\n",
       "      <td>Positive</td>\n",
       "      <td>Neutral</td>\n",
       "      <td>Positive</td>\n",
       "    </tr>\n",
       "    <tr>\n",
       "      <th>1</th>\n",
       "      <td>Clever and fun beginning turns into another le...</td>\n",
       "      <td>6</td>\n",
       "      <td>0.9524</td>\n",
       "      <td>Positive</td>\n",
       "      <td>Neutral</td>\n",
       "      <td>Positive</td>\n",
       "    </tr>\n",
       "    <tr>\n",
       "      <th>2</th>\n",
       "      <td>It was depressingcoxaneesa24 July 2023Warning ...</td>\n",
       "      <td>8</td>\n",
       "      <td>0.7579</td>\n",
       "      <td>Positive</td>\n",
       "      <td>Positive</td>\n",
       "      <td>Positive</td>\n",
       "    </tr>\n",
       "    <tr>\n",
       "      <th>3</th>\n",
       "      <td>A Technicolor Dreamheatherhilgers24 July 2023W...</td>\n",
       "      <td>9</td>\n",
       "      <td>0.9733</td>\n",
       "      <td>Positive</td>\n",
       "      <td>Positive</td>\n",
       "      <td>Positive</td>\n",
       "    </tr>\n",
       "    <tr>\n",
       "      <th>4</th>\n",
       "      <td>reasons FOR seeing it and 1 reason AGAINSTims...</td>\n",
       "      <td>7</td>\n",
       "      <td>0.7579</td>\n",
       "      <td>Positive</td>\n",
       "      <td>Neutral</td>\n",
       "      <td>Positive</td>\n",
       "    </tr>\n",
       "    <tr>\n",
       "      <th>5</th>\n",
       "      <td>Barbie Is A Weirdly Fun MovieHabibieHakim12319...</td>\n",
       "      <td>8</td>\n",
       "      <td>0.9989</td>\n",
       "      <td>Positive</td>\n",
       "      <td>Positive</td>\n",
       "      <td>Positive</td>\n",
       "    </tr>\n",
       "    <tr>\n",
       "      <th>6</th>\n",
       "      <td>Too heavy handedNatcat8722 July 2023Warning Sp...</td>\n",
       "      <td>6</td>\n",
       "      <td>0.7579</td>\n",
       "      <td>Positive</td>\n",
       "      <td>Neutral</td>\n",
       "      <td>Positive</td>\n",
       "    </tr>\n",
       "    <tr>\n",
       "      <th>7</th>\n",
       "      <td>Fun and surprisingly touchingjpismyname19 July...</td>\n",
       "      <td>8</td>\n",
       "      <td>0.9978</td>\n",
       "      <td>Positive</td>\n",
       "      <td>Positive</td>\n",
       "      <td>Positive</td>\n",
       "    </tr>\n",
       "    <tr>\n",
       "      <th>8</th>\n",
       "      <td>High Highs Low LowsLk199024 July 2023The first...</td>\n",
       "      <td>6</td>\n",
       "      <td>0.9974</td>\n",
       "      <td>Positive</td>\n",
       "      <td>Neutral</td>\n",
       "      <td>Positive</td>\n",
       "    </tr>\n",
       "    <tr>\n",
       "      <th>9</th>\n",
       "      <td>Well this really did come as a surpriseSleepin...</td>\n",
       "      <td>8</td>\n",
       "      <td>0.9984</td>\n",
       "      <td>Positive</td>\n",
       "      <td>Positive</td>\n",
       "      <td>Positive</td>\n",
       "    </tr>\n",
       "    <tr>\n",
       "      <th>10</th>\n",
       "      <td>My mom and I saw this yesterday Here are my th...</td>\n",
       "      <td>6</td>\n",
       "      <td>0.7579</td>\n",
       "      <td>Positive</td>\n",
       "      <td>Neutral</td>\n",
       "      <td>Positive</td>\n",
       "    </tr>\n",
       "    <tr>\n",
       "      <th>11</th>\n",
       "      <td>The marketing was more entertaining than the a...</td>\n",
       "      <td>4</td>\n",
       "      <td>0.8655</td>\n",
       "      <td>Positive</td>\n",
       "      <td>Neutral</td>\n",
       "      <td>Positive</td>\n",
       "    </tr>\n",
       "    <tr>\n",
       "      <th>12</th>\n",
       "      <td>Ken out of tenfinnconnelly6301722 July 2023Wow...</td>\n",
       "      <td>1</td>\n",
       "      <td>0.9928</td>\n",
       "      <td>Positive</td>\n",
       "      <td>Negative</td>\n",
       "      <td>Neutral</td>\n",
       "    </tr>\n",
       "    <tr>\n",
       "      <th>13</th>\n",
       "      <td>Barbie  A Multifaceted Exploration of Feminini...</td>\n",
       "      <td>8</td>\n",
       "      <td>0.9939</td>\n",
       "      <td>Positive</td>\n",
       "      <td>Positive</td>\n",
       "      <td>Positive</td>\n",
       "    </tr>\n",
       "    <tr>\n",
       "      <th>14</th>\n",
       "      <td>It could have been so much betterhamsterinatio...</td>\n",
       "      <td>6</td>\n",
       "      <td>0.9681</td>\n",
       "      <td>Positive</td>\n",
       "      <td>Neutral</td>\n",
       "      <td>Positive</td>\n",
       "    </tr>\n",
       "    <tr>\n",
       "      <th>15</th>\n",
       "      <td>not for everyoneanjamulder19 July 2023This is ...</td>\n",
       "      <td>8</td>\n",
       "      <td>0.9766</td>\n",
       "      <td>Positive</td>\n",
       "      <td>Positive</td>\n",
       "      <td>Positive</td>\n",
       "    </tr>\n",
       "    <tr>\n",
       "      <th>16</th>\n",
       "      <td>Brilliant observations but social depth is mis...</td>\n",
       "      <td>6</td>\n",
       "      <td>0.9032</td>\n",
       "      <td>Positive</td>\n",
       "      <td>Neutral</td>\n",
       "      <td>Positive</td>\n",
       "    </tr>\n",
       "    <tr>\n",
       "      <th>17</th>\n",
       "      <td>You are KenoughGenti2520 July 2023This movie i...</td>\n",
       "      <td>8</td>\n",
       "      <td>0.9514</td>\n",
       "      <td>Positive</td>\n",
       "      <td>Positive</td>\n",
       "      <td>Positive</td>\n",
       "    </tr>\n",
       "    <tr>\n",
       "      <th>18</th>\n",
       "      <td>Amazing Cast  Set but the political message wa...</td>\n",
       "      <td>6</td>\n",
       "      <td>0.9032</td>\n",
       "      <td>Positive</td>\n",
       "      <td>Neutral</td>\n",
       "      <td>Positive</td>\n",
       "    </tr>\n",
       "    <tr>\n",
       "      <th>19</th>\n",
       "      <td>Wildly Pinkfaeezrizwan19 July 2023Warning Spoi...</td>\n",
       "      <td>9</td>\n",
       "      <td>0.7579</td>\n",
       "      <td>Positive</td>\n",
       "      <td>Positive</td>\n",
       "      <td>Positive</td>\n",
       "    </tr>\n",
       "    <tr>\n",
       "      <th>20</th>\n",
       "      <td>Could Have Been Great 2nd Half Brings It DownR...</td>\n",
       "      <td>6</td>\n",
       "      <td>0.9869</td>\n",
       "      <td>Positive</td>\n",
       "      <td>Neutral</td>\n",
       "      <td>Positive</td>\n",
       "    </tr>\n",
       "    <tr>\n",
       "      <th>21</th>\n",
       "      <td>Somewhat of a Jumbled Messherrcarter9216123 Ju...</td>\n",
       "      <td>5</td>\n",
       "      <td>0.7579</td>\n",
       "      <td>Positive</td>\n",
       "      <td>Neutral</td>\n",
       "      <td>Positive</td>\n",
       "    </tr>\n",
       "    <tr>\n",
       "      <th>22</th>\n",
       "      <td>The best version of itselfmasonsaul21 July 202...</td>\n",
       "      <td>1</td>\n",
       "      <td>0.9974</td>\n",
       "      <td>Positive</td>\n",
       "      <td>Negative</td>\n",
       "      <td>Neutral</td>\n",
       "    </tr>\n",
       "    <tr>\n",
       "      <th>23</th>\n",
       "      <td>Creative but preachy and confusingImshortok062...</td>\n",
       "      <td>6</td>\n",
       "      <td>0.9905</td>\n",
       "      <td>Positive</td>\n",
       "      <td>Neutral</td>\n",
       "      <td>Positive</td>\n",
       "    </tr>\n",
       "    <tr>\n",
       "      <th>24</th>\n",
       "      <td>I am Kenougheoinageary23 July 2023So I went in...</td>\n",
       "      <td>8</td>\n",
       "      <td>0.9121</td>\n",
       "      <td>Positive</td>\n",
       "      <td>Positive</td>\n",
       "      <td>Positive</td>\n",
       "    </tr>\n",
       "    <tr>\n",
       "      <th>25</th>\n",
       "      <td>Didnt hit my pink spottmsheehan19 July 2023War...</td>\n",
       "      <td>6</td>\n",
       "      <td>0.7579</td>\n",
       "      <td>Positive</td>\n",
       "      <td>Neutral</td>\n",
       "      <td>Positive</td>\n",
       "    </tr>\n",
       "    <tr>\n",
       "      <th>26</th>\n",
       "      <td>Its like GI JoeFor girls Seriously and I love ...</td>\n",
       "      <td>8</td>\n",
       "      <td>0.9894</td>\n",
       "      <td>Positive</td>\n",
       "      <td>Positive</td>\n",
       "      <td>Positive</td>\n",
       "    </tr>\n",
       "    <tr>\n",
       "      <th>27</th>\n",
       "      <td>No Directionandermic1821 July 2023The movie wa...</td>\n",
       "      <td>6</td>\n",
       "      <td>0.0798</td>\n",
       "      <td>Positive</td>\n",
       "      <td>Neutral</td>\n",
       "      <td>Positive</td>\n",
       "    </tr>\n",
       "    <tr>\n",
       "      <th>28</th>\n",
       "      <td>A wholesome delightAnuragShetty23 July 2023Bar...</td>\n",
       "      <td>1</td>\n",
       "      <td>0.9963</td>\n",
       "      <td>Positive</td>\n",
       "      <td>Negative</td>\n",
       "      <td>Neutral</td>\n",
       "    </tr>\n",
       "    <tr>\n",
       "      <th>29</th>\n",
       "      <td>Strong Start and Thats Itlokicola24 July 2023I...</td>\n",
       "      <td>6</td>\n",
       "      <td>0.9971</td>\n",
       "      <td>Positive</td>\n",
       "      <td>Neutral</td>\n",
       "      <td>Positive</td>\n",
       "    </tr>\n",
       "    <tr>\n",
       "      <th>30</th>\n",
       "      <td>Fails to meet expectations but still funMatthe...</td>\n",
       "      <td>8</td>\n",
       "      <td>0.8338</td>\n",
       "      <td>Positive</td>\n",
       "      <td>Positive</td>\n",
       "      <td>Positive</td>\n",
       "    </tr>\n",
       "    <tr>\n",
       "      <th>31</th>\n",
       "      <td>Not so unique as expecteddreopdreef19 July 202...</td>\n",
       "      <td>6</td>\n",
       "      <td>0.9863</td>\n",
       "      <td>Positive</td>\n",
       "      <td>Neutral</td>\n",
       "      <td>Positive</td>\n",
       "    </tr>\n",
       "    <tr>\n",
       "      <th>32</th>\n",
       "      <td>Preach Preach PreachMaskedMinty21 July 2023War...</td>\n",
       "      <td>5</td>\n",
       "      <td>0.7579</td>\n",
       "      <td>Positive</td>\n",
       "      <td>Neutral</td>\n",
       "      <td>Positive</td>\n",
       "    </tr>\n",
       "    <tr>\n",
       "      <th>33</th>\n",
       "      <td>A colorful love letter to human kindmavigangi2...</td>\n",
       "      <td>1</td>\n",
       "      <td>0.9947</td>\n",
       "      <td>Positive</td>\n",
       "      <td>Negative</td>\n",
       "      <td>Neutral</td>\n",
       "    </tr>\n",
       "    <tr>\n",
       "      <th>34</th>\n",
       "      <td>Were All Dollsklastaitas28 July 2023Without co...</td>\n",
       "      <td>8</td>\n",
       "      <td>0.9956</td>\n",
       "      <td>Positive</td>\n",
       "      <td>Positive</td>\n",
       "      <td>Positive</td>\n",
       "    </tr>\n",
       "  </tbody>\n",
       "</table>\n",
       "</div>"
      ],
      "text/plain": [
       "                                                 text  rating   score  \\\n",
       "0   Beautiful film but so preachyLoveofLegacy21 Ju...       6  0.9874   \n",
       "1   Clever and fun beginning turns into another le...       6  0.9524   \n",
       "2   It was depressingcoxaneesa24 July 2023Warning ...       8  0.7579   \n",
       "3   A Technicolor Dreamheatherhilgers24 July 2023W...       9  0.9733   \n",
       "4    reasons FOR seeing it and 1 reason AGAINSTims...       7  0.7579   \n",
       "5   Barbie Is A Weirdly Fun MovieHabibieHakim12319...       8  0.9989   \n",
       "6   Too heavy handedNatcat8722 July 2023Warning Sp...       6  0.7579   \n",
       "7   Fun and surprisingly touchingjpismyname19 July...       8  0.9978   \n",
       "8   High Highs Low LowsLk199024 July 2023The first...       6  0.9974   \n",
       "9   Well this really did come as a surpriseSleepin...       8  0.9984   \n",
       "10  My mom and I saw this yesterday Here are my th...       6  0.7579   \n",
       "11  The marketing was more entertaining than the a...       4  0.8655   \n",
       "12  Ken out of tenfinnconnelly6301722 July 2023Wow...       1  0.9928   \n",
       "13  Barbie  A Multifaceted Exploration of Feminini...       8  0.9939   \n",
       "14  It could have been so much betterhamsterinatio...       6  0.9681   \n",
       "15  not for everyoneanjamulder19 July 2023This is ...       8  0.9766   \n",
       "16  Brilliant observations but social depth is mis...       6  0.9032   \n",
       "17  You are KenoughGenti2520 July 2023This movie i...       8  0.9514   \n",
       "18  Amazing Cast  Set but the political message wa...       6  0.9032   \n",
       "19  Wildly Pinkfaeezrizwan19 July 2023Warning Spoi...       9  0.7579   \n",
       "20  Could Have Been Great 2nd Half Brings It DownR...       6  0.9869   \n",
       "21  Somewhat of a Jumbled Messherrcarter9216123 Ju...       5  0.7579   \n",
       "22  The best version of itselfmasonsaul21 July 202...       1  0.9974   \n",
       "23  Creative but preachy and confusingImshortok062...       6  0.9905   \n",
       "24  I am Kenougheoinageary23 July 2023So I went in...       8  0.9121   \n",
       "25  Didnt hit my pink spottmsheehan19 July 2023War...       6  0.7579   \n",
       "26  Its like GI JoeFor girls Seriously and I love ...       8  0.9894   \n",
       "27  No Directionandermic1821 July 2023The movie wa...       6  0.0798   \n",
       "28  A wholesome delightAnuragShetty23 July 2023Bar...       1  0.9963   \n",
       "29  Strong Start and Thats Itlokicola24 July 2023I...       6  0.9971   \n",
       "30  Fails to meet expectations but still funMatthe...       8  0.8338   \n",
       "31  Not so unique as expecteddreopdreef19 July 202...       6  0.9863   \n",
       "32  Preach Preach PreachMaskedMinty21 July 2023War...       5  0.7579   \n",
       "33  A colorful love letter to human kindmavigangi2...       1  0.9947   \n",
       "34  Were All Dollsklastaitas28 July 2023Without co...       8  0.9956   \n",
       "\n",
       "    analysis rating_analysis final_analysis  \n",
       "0   Positive         Neutral       Positive  \n",
       "1   Positive         Neutral       Positive  \n",
       "2   Positive        Positive       Positive  \n",
       "3   Positive        Positive       Positive  \n",
       "4   Positive         Neutral       Positive  \n",
       "5   Positive        Positive       Positive  \n",
       "6   Positive         Neutral       Positive  \n",
       "7   Positive        Positive       Positive  \n",
       "8   Positive         Neutral       Positive  \n",
       "9   Positive        Positive       Positive  \n",
       "10  Positive         Neutral       Positive  \n",
       "11  Positive         Neutral       Positive  \n",
       "12  Positive        Negative        Neutral  \n",
       "13  Positive        Positive       Positive  \n",
       "14  Positive         Neutral       Positive  \n",
       "15  Positive        Positive       Positive  \n",
       "16  Positive         Neutral       Positive  \n",
       "17  Positive        Positive       Positive  \n",
       "18  Positive         Neutral       Positive  \n",
       "19  Positive        Positive       Positive  \n",
       "20  Positive         Neutral       Positive  \n",
       "21  Positive         Neutral       Positive  \n",
       "22  Positive        Negative        Neutral  \n",
       "23  Positive         Neutral       Positive  \n",
       "24  Positive        Positive       Positive  \n",
       "25  Positive         Neutral       Positive  \n",
       "26  Positive        Positive       Positive  \n",
       "27  Positive         Neutral       Positive  \n",
       "28  Positive        Negative        Neutral  \n",
       "29  Positive         Neutral       Positive  \n",
       "30  Positive        Positive       Positive  \n",
       "31  Positive         Neutral       Positive  \n",
       "32  Positive         Neutral       Positive  \n",
       "33  Positive        Negative        Neutral  \n",
       "34  Positive        Positive       Positive  "
      ]
     },
     "execution_count": 31,
     "metadata": {},
     "output_type": "execute_result"
    }
   ],
   "source": [
    "Barbie_df.head(35)"
   ]
  },
  {
   "cell_type": "code",
   "execution_count": 32,
   "id": "6ad8c48f",
   "metadata": {
    "execution": {
     "iopub.execute_input": "2023-08-16T23:06:23.292371Z",
     "iopub.status.busy": "2023-08-16T23:06:23.291196Z",
     "iopub.status.idle": "2023-08-16T23:06:23.298711Z",
     "shell.execute_reply": "2023-08-16T23:06:23.297653Z"
    },
    "papermill": {
     "duration": 0.03269,
     "end_time": "2023-08-16T23:06:23.301060",
     "exception": false,
     "start_time": "2023-08-16T23:06:23.268370",
     "status": "completed"
    },
    "tags": []
   },
   "outputs": [
    {
     "data": {
      "text/plain": [
       "array(['Positive', 'Neutral', 'Negative'], dtype=object)"
      ]
     },
     "execution_count": 32,
     "metadata": {},
     "output_type": "execute_result"
    }
   ],
   "source": [
    "Barbie_df['final_analysis'].unique()"
   ]
  },
  {
   "cell_type": "markdown",
   "id": "a390661f",
   "metadata": {
    "execution": {
     "iopub.execute_input": "2023-08-15T22:52:36.790512Z",
     "iopub.status.busy": "2023-08-15T22:52:36.790051Z",
     "iopub.status.idle": "2023-08-15T22:52:36.902988Z",
     "shell.execute_reply": "2023-08-15T22:52:36.901418Z",
     "shell.execute_reply.started": "2023-08-15T22:52:36.790477Z"
    },
    "papermill": {
     "duration": 0.02081,
     "end_time": "2023-08-16T23:06:23.343272",
     "exception": false,
     "start_time": "2023-08-16T23:06:23.322462",
     "status": "completed"
    },
    "tags": []
   },
   "source": [
    "# Final EDA of the movie Barbie"
   ]
  },
  {
   "cell_type": "code",
   "execution_count": 33,
   "id": "50700810",
   "metadata": {
    "execution": {
     "iopub.execute_input": "2023-08-16T23:06:23.387195Z",
     "iopub.status.busy": "2023-08-16T23:06:23.386810Z",
     "iopub.status.idle": "2023-08-16T23:06:23.672303Z",
     "shell.execute_reply": "2023-08-16T23:06:23.670925Z"
    },
    "papermill": {
     "duration": 0.310577,
     "end_time": "2023-08-16T23:06:23.674911",
     "exception": false,
     "start_time": "2023-08-16T23:06:23.364334",
     "status": "completed"
    },
    "tags": []
   },
   "outputs": [
    {
     "data": {
      "image/png": "[encoded data removed]",
      "text/plain": [
       "<Figure size 800x600 with 1 Axes>"
      ]
     },
     "metadata": {},
     "output_type": "display_data"
    }
   ],
   "source": [
    "# Set the color palette\n",
    "color_palette = sns.color_palette(\"Set2\")\n",
    "\n",
    "# Create a count plot of 'final_analysis'\n",
    "plt.figure(figsize=(8, 6))\n",
    "sns.countplot(x='final_analysis', data=Barbie_df, palette=color_palette)\n",
    "plt.title(\"Count of Final Analysis\")\n",
    "plt.xlabel(\"Final Analysis\")\n",
    "plt.ylabel(\"Count\")\n",
    "plt.show()"
   ]
  },
  {
   "cell_type": "code",
   "execution_count": 34,
   "id": "16b3eff1",
   "metadata": {
    "execution": {
     "iopub.execute_input": "2023-08-16T23:06:23.723444Z",
     "iopub.status.busy": "2023-08-16T23:06:23.721105Z",
     "iopub.status.idle": "2023-08-16T23:06:24.352466Z",
     "shell.execute_reply": "2023-08-16T23:06:24.351284Z"
    },
    "papermill": {
     "duration": 0.657749,
     "end_time": "2023-08-16T23:06:24.355009",
     "exception": false,
     "start_time": "2023-08-16T23:06:23.697260",
     "status": "completed"
    },
    "tags": []
   },
   "outputs": [
    {
     "data": {
      "image/png": "[encoded data removed]",
      "text/plain": [
       "<Figure size 800x600 with 1 Axes>"
      ]
     },
     "metadata": {},
     "output_type": "display_data"
    }
   ],
   "source": [
    "# Compare 'final_analysis' with 'rating'\n",
    "plt.figure(figsize=(8, 6))\n",
    "sns.countplot(x='final_analysis', hue='rating', data=Barbie_df, palette=color_palette)\n",
    "plt.title(\"Comparison of Final Analysis with Ratings\")\n",
    "plt.xlabel(\"Final Analysis\")\n",
    "plt.ylabel(\"Count\")\n",
    "plt.legend(title=\"Rating\")\n",
    "plt.show()"
   ]
  },
  {
   "cell_type": "code",
   "execution_count": 35,
   "id": "c5fd78c2",
   "metadata": {
    "execution": {
     "iopub.execute_input": "2023-08-16T23:06:24.401327Z",
     "iopub.status.busy": "2023-08-16T23:06:24.400164Z",
     "iopub.status.idle": "2023-08-16T23:06:24.746872Z",
     "shell.execute_reply": "2023-08-16T23:06:24.745604Z"
    },
    "papermill": {
     "duration": 0.372822,
     "end_time": "2023-08-16T23:06:24.749722",
     "exception": false,
     "start_time": "2023-08-16T23:06:24.376900",
     "status": "completed"
    },
    "tags": []
   },
   "outputs": [
    {
     "data": {
      "image/png": "[encoded data removed]",
      "text/plain": [
       "<Figure size 800x600 with 1 Axes>"
      ]
     },
     "metadata": {},
     "output_type": "display_data"
    }
   ],
   "source": [
    "# Compare 'final_analysis' with 'score'\n",
    "plt.figure(figsize=(8, 6))\n",
    "sns.boxplot(x='final_analysis', y='score', data=Barbie_df, palette=color_palette)\n",
    "plt.title(\"Comparison of Final Analysis with Score\")\n",
    "plt.xlabel(\"Final Analysis\")\n",
    "plt.ylabel(\"Score\")\n",
    "plt.show()"
   ]
  },
  {
   "cell_type": "code",
   "execution_count": 36,
   "id": "274bd28e",
   "metadata": {
    "execution": {
     "iopub.execute_input": "2023-08-16T23:06:24.796574Z",
     "iopub.status.busy": "2023-08-16T23:06:24.796130Z",
     "iopub.status.idle": "2023-08-16T23:06:27.261792Z",
     "shell.execute_reply": "2023-08-16T23:06:27.260904Z"
    },
    "papermill": {
     "duration": 2.491503,
     "end_time": "2023-08-16T23:06:27.263847",
     "exception": false,
     "start_time": "2023-08-16T23:06:24.772344",
     "status": "completed"
    },
    "tags": []
   },
   "outputs": [
    {
     "data": {
      "image/png": "[encoded data removed]",
      "text/plain": [
       "<Figure size 624.597x500 with 6 Axes>"
      ]
     },
     "metadata": {},
     "output_type": "display_data"
    }
   ],
   "source": [
    "# Compare 'final_analysis' with other numerical variables using pairplot\n",
    "sns.pairplot(Barbie_df, hue='final_analysis', diag_kind='kde', palette=color_palette)\n",
    "plt.title(\"Pairplot of Numerical Variables by Final Analysis\")\n",
    "plt.show()"
   ]
  },
  {
   "cell_type": "code",
   "execution_count": 37,
   "id": "41170d29",
   "metadata": {
    "execution": {
     "iopub.execute_input": "2023-08-16T23:06:27.313881Z",
     "iopub.status.busy": "2023-08-16T23:06:27.313142Z",
     "iopub.status.idle": "2023-08-16T23:06:27.596621Z",
     "shell.execute_reply": "2023-08-16T23:06:27.595718Z"
    },
    "papermill": {
     "duration": 0.311164,
     "end_time": "2023-08-16T23:06:27.598988",
     "exception": false,
     "start_time": "2023-08-16T23:06:27.287824",
     "status": "completed"
    },
    "tags": []
   },
   "outputs": [
    {
     "data": {
      "image/png": "[encoded data removed]",
      "text/plain": [
       "<Figure size 800x600 with 1 Axes>"
      ]
     },
     "metadata": {},
     "output_type": "display_data"
    }
   ],
   "source": [
    "# Set the color palette\n",
    "color_palette = sns.color_palette(\"Set3\")\n",
    "\n",
    "# Create a count plot of 'final_analysis'\n",
    "plt.figure(figsize=(8, 6))\n",
    "sns.countplot(x='final_analysis', data=Barbie_df, palette=color_palette)\n",
    "plt.title(\"Count of Final Analysis\")\n",
    "plt.xlabel(\"Final Analysis\")\n",
    "plt.ylabel(\"Count\")\n",
    "plt.show()"
   ]
  },
  {
   "cell_type": "markdown",
   "id": "049d0a1d",
   "metadata": {
    "papermill": {
     "duration": 0.024337,
     "end_time": "2023-08-16T23:06:27.648082",
     "exception": false,
     "start_time": "2023-08-16T23:06:27.623745",
     "status": "completed"
    },
    "tags": []
   },
   "source": [
    "> **In conclusion, the count plot above provides an insightful overview of the sentiment analysis results categorized as 'positive', 'neutral', and 'negative'. To gain a deeper understanding, feel free to explore the interactive visualizations presented. They shed light on the relationship between sentiment analysis, ratings, scores, and other features, helping you uncover valuable insights from the dataset.**"
   ]
  },
  {
   "cell_type": "markdown",
   "id": "fee34d37",
   "metadata": {
    "papermill": {
     "duration": 0.024902,
     "end_time": "2023-08-16T23:06:27.697120",
     "exception": false,
     "start_time": "2023-08-16T23:06:27.672218",
     "status": "completed"
    },
    "tags": []
   },
   "source": [
    "# **Have a great day!**"
   ]
  }
 ],
 "metadata": {
  "kernelspec": {
   "display_name": "Python 3",
   "language": "python",
   "name": "python3"
  },
  "language_info": {
   "codemirror_mode": {
    "name": "ipython",
    "version": 3
   },
   "file_extension": ".py",
   "mimetype": "text/x-python",
   "name": "python",
   "nbconvert_exporter": "python",
   "pygments_lexer": "ipython3",
   "version": "3.10.12"
  },
  "papermill": {
   "default_parameters": {},
   "duration": 34.452893,
   "end_time": "2023-08-16T23:06:28.743734",
   "environment_variables": {},
   "exception": null,
   "input_path": "__notebook__.ipynb",
   "output_path": "__notebook__.ipynb",
   "parameters": {},
   "start_time": "2023-08-16T23:05:54.290841",
   "version": "2.4.0"
  }
 },
 "nbformat": 4,
 "nbformat_minor": 5
}
